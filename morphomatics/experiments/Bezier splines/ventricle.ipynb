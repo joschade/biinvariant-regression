{
 "cells": [
  {
   "cell_type": "markdown",
   "metadata": {
    "pycharm": {
     "name": "#%% md\n"
    }
   },
   "source": [
    "# Read Data"
   ]
  },
  {
   "cell_type": "code",
   "execution_count": 5,
   "metadata": {
    "pycharm": {
     "name": "#%%\n"
    }
   },
   "outputs": [
    {
     "name": "stdout",
     "output_type": "stream",
     "text": [
      "env: JAX_ENABLE_X64=True\n"
     ]
    }
   ],
   "source": [
    "%env JAX_ENABLE_X64=True\n",
    "\n",
    "from typing import List, NamedTuple\n",
    "import os\n",
    "import pyvista as pv\n",
    "\n",
    "from morphomatics.geom import Surface\n",
    "\n",
    "path = '/data/visual/online/projects/shape_trj/ventricle_MV/2_echo_LV'\n",
    "\n",
    "class Subject(NamedTuple):\n",
    "    systole: Surface\n",
    "    diastole: Surface\n",
    "\n",
    "# create Surface from pv.PolyData\n",
    "to_surf = lambda mesh: Surface(mesh.points, mesh.faces.reshape(-1, 4)[:, 1:])\n",
    "\n",
    "subjects: List[Subject] = []\n",
    "for d in os.listdir(path):\n",
    "    files = os.listdir(f'{path}/{d}')\n",
    "    files.sort()\n",
    "    sub = Subject(*[to_surf(pv.read(f'{path}/{d}/{f}')) for f in files])\n",
    "    subjects.append(sub)"
   ]
  },
  {
   "cell_type": "markdown",
   "metadata": {
    "pycharm": {
     "name": "#%% md\n"
    }
   },
   "source": [
    "# Determine Reference Shape"
   ]
  },
  {
   "cell_type": "code",
   "execution_count": 6,
   "metadata": {
    "pycharm": {
     "name": "#%%\n"
    }
   },
   "outputs": [
    {
     "name": "stdout",
     "output_type": "stream",
     "text": [
      "12.086290492774422\n",
      "0.6852953940161997\n",
      "0.09134331739290773\n",
      "0.025202615292526216\n",
      "0.02249216238716494\n",
      "0.022001253914874258\n",
      "0.02345693510186036 > 0.022001253914874258 --> divergence\n",
      "variances: [7.24471167e+02 5.19666191e+02 3.15014672e+02 1.93083761e+02\n",
      " 1.29079316e+02 9.83369661e+01 7.92818487e+01 5.48260584e+01\n",
      " 2.15675218e-02]\n"
     ]
    },
    {
     "data": {
      "application/vnd.jupyter.widget-view+json": {
       "model_id": "5765ac7b329a4dc1a9e759cb02139ba7",
       "version_major": 2,
       "version_minor": 0
      },
      "text/plain": [
       "interactive(children=(FloatSlider(value=0.0, description='t', max=26.91600206295891, min=-26.91600206295891, s…"
      ]
     },
     "metadata": {},
     "output_type": "display_data"
    },
    {
     "data": {
      "application/vnd.jupyter.widget-view+json": {
       "model_id": "f4c363d4af4445158f40e9824f924033",
       "version_major": 2,
       "version_minor": 0
      },
      "text/plain": [
       "Scene(background_color='#4c4c4c', camera={'position': [70.78602653197838, 74.33933922695165, 111.9984249706177…"
      ]
     },
     "metadata": {},
     "output_type": "display_data"
    }
   ],
   "source": [
    "from ipywidgets import interact\n",
    "\n",
    "import numpy as np\n",
    "import jax.numpy as jnp\n",
    "\n",
    "from morphomatics.manifold import FundamentalCoords, DifferentialCoords\n",
    "from morphomatics.stats import StatisticalShapeModel\n",
    "\n",
    "# construct SSM for diastole configurations\n",
    "SSM = StatisticalShapeModel(lambda ref: DifferentialCoords(ref))\n",
    "SSM.construct([s.diastole for s in subjects])\n",
    "print(f'variances: {SSM.variances}')\n",
    "\n",
    "# show SSM\n",
    "pl = pv.Plotter(notebook=True)\n",
    "mesh = pv.PolyData(np.asarray(SSM.mean.v), np.c_[np.full(len(SSM.mean.f), 3), SSM.mean.f])\n",
    "pl.add_mesh(mesh)\n",
    "viewer = pl.show(jupyter_backend='ipygany', return_viewer=True)\n",
    "\n",
    "dev = np.sqrt(SSM.variances[0])\n",
    "@interact\n",
    "def plot(t=(-dev,dev,dev/10)):\n",
    "    # interpolate: excite 1st principal geodesic mode\n",
    "    v = SSM.space.from_coords(SSM.space.connec.exp(SSM.mean_coords, t*SSM.modes[0]))\n",
    "    viewer.children[0].vertices = np.asarray(v)\n",
    "\n",
    "viewer"
   ]
  },
  {
   "cell_type": "markdown",
   "metadata": {
    "pycharm": {
     "name": "#%%\n"
    }
   },
   "source": [
    "# Construct statistical shape trajectory model (SSTM)"
   ]
  },
  {
   "cell_type": "code",
   "execution_count": null,
   "metadata": {
    "pycharm": {
     "name": "#%%\n"
    }
   },
   "outputs": [
    {
     "name": "stdout",
     "output_type": "stream",
     "text": [
      "0: 0.3315946378782998\n",
      "1: 0.29787299027276193\n",
      "2: 0.30869938513116724\n",
      "3: 0.3152406746620049\n",
      "4: 0.2904820668869489\n",
      "5: 0.2919339614302815\n",
      "6: 0.30347541242671217\n",
      "7: 0.31452418745339217\n",
      "8: 0.21645786368959885\n",
      "9: 0.2926248330297124\n",
      "10: 0.2718673627557189\n",
      "11: 0.23655150860907181\n",
      "12: 0.26397293176812897\n",
      "13: 0.2927235793624464\n",
      "14: 0.2098204594024026\n",
      "15: 0.22395345954041085\n",
      "16: 0.17032824010971603\n",
      "17: 0.19456093011982478\n",
      "18: 0.2742982360701446\n",
      "19: 0.0990668205360318\n",
      "20: 0.15425847980901236\n",
      "21: 0.1820995529915339\n",
      "22: 0.09701540608927904\n",
      "23: 0.14066926443902095\n",
      "24: 0.13193834683842226\n",
      "25: 0.2627679389527597\n",
      "26: 0.09186443419727179\n",
      "27: 0.09867870640791815\n",
      "28: 0.07507871882547962\n",
      "29: 0.1072489912663972\n",
      "30: 0.21033604228550035\n",
      "31: 0.04112448200757293\n",
      "32: 0.07030436096007502\n",
      "33: 0.02674240077540887\n",
      "34: 0.054040746282997265\n",
      "35: 0.05484377769000969\n",
      "36: 0.07130728617118771\n",
      "37: 0.30564023074233876\n",
      "38: 0.10658397446554133\n",
      "39: 0.11950294555009466\n",
      "40: 0.06753731968297724\n",
      "41: 0.1166668151502317\n",
      "42: 0.06372627770772123\n",
      "43: 0.06939778936366628\n",
      "44: 0.30840503793165364\n",
      "45: 0.061912711319312044\n",
      "46: 0.04401788299603581\n",
      "47: 0.06335618199659565\n",
      "48: 0.06453733098491855\n",
      "49: 0.07172490551404674\n",
      "50: 0.0733474966431352\n",
      "51: 0.04937446269835204\n",
      "52: 0.09543666630070977\n",
      "53: 0.05211486790276504\n",
      "54: 0.24701546386666492\n",
      "55: 0.08964088197224485\n",
      "56: 0.09461809862999454\n",
      "57: 0.1014747196204158\n"
     ]
    }
   ],
   "source": [
    "from morphomatics.geom import BezierSpline\n",
    "from morphomatics.manifold import Bezierfold, ShapeSpace\n",
    "\n",
    "M: ShapeSpace = SSM.space\n",
    "B = Bezierfold(M, 1, 1)\n",
    "\n",
    "# map: shape pairs -> splines -> pts. in Bezierfold \n",
    "splines = [BezierSpline(M, jnp.array([[M.to_coords(s.diastole.v), M.to_coords(s.systole.v)]])) for s in subjects]\n",
    "trjs = jnp.asarray([B.to_coords(s) for s in splines])\n",
    "\n",
    "# compute mean and Gram matrix\n",
    "mean, geos = Bezierfold.FunctionalBasedStructure.mean(B, trjs)\n",
    "G = B.metric.gram(mean, geos)"
   ]
  },
  {
   "cell_type": "markdown",
   "metadata": {},
   "source": [
    "## Visualize mean trajectory"
   ]
  },
  {
   "cell_type": "code",
   "execution_count": 4,
   "metadata": {},
   "outputs": [
    {
     "data": {
      "application/vnd.jupyter.widget-view+json": {
       "model_id": "c6e1682ce2804ebca7f693e247572e6c",
       "version_major": 2,
       "version_minor": 0
      },
      "text/plain": [
       "interactive(children=(FloatSlider(value=0.5, description='t', max=1.0), Output()), _dom_classes=('widget-inter…"
      ]
     },
     "metadata": {},
     "output_type": "display_data"
    },
    {
     "data": {
      "application/vnd.jupyter.widget-view+json": {
       "model_id": "5a2fda2064e54622b582913773b4468e",
       "version_major": 2,
       "version_minor": 0
      },
      "text/plain": [
       "Scene(background_color='#4c4c4c', camera={'position': [69.84129523599651, 76.87526928002913, 116.2644064186490…"
      ]
     },
     "metadata": {},
     "output_type": "display_data"
    }
   ],
   "source": [
    "mu: BezierSpline = B.from_coords(mean)\n",
    "    \n",
    "pl = pv.Plotter(notebook=True)\n",
    "pl.add_mesh(mesh)\n",
    "viewer = pl.show(jupyter_backend='ipygany', return_viewer=True)\n",
    "\n",
    "@interact\n",
    "def plot(t=(0.,1.,.1)):\n",
    "    v = M.from_coords(mu.eval(t))\n",
    "    viewer.children[0].vertices = np.asarray(v)\n",
    "\n",
    "viewer"
   ]
  },
  {
   "cell_type": "code",
   "execution_count": 5,
   "metadata": {
    "pycharm": {
     "name": "#%%\n"
    }
   },
   "outputs": [
    {
     "name": "stdout",
     "output_type": "stream",
     "text": [
      "variances: [0.00010014 0.00295755 0.0044298  0.00596598 0.00836817 0.01321803\n",
      " 0.01437479 0.03599146 0.04748391]\n"
     ]
    }
   ],
   "source": [
    "import jax\n",
    "from morphomatics.manifold import PowerManifold\n",
    "\n",
    "# eigen decomposition of Gram matrix\n",
    "vals, vecs = jnp.linalg.eigh(G)\n",
    "print('variances:', vals)\n",
    "\n",
    "# compute modes\n",
    "N = PowerManifold(M, B.K+1)\n",
    "logs = jax.vmap(N.connec.log, (None, 0))(mean, geos[:,1]) * B.nsteps\n",
    "modes = jnp.diag(1/jnp.sqrt(len(G)*vals[::-1])) @ vecs[:,::-1].T @ logs.reshape(len(G),-1)\n",
    "modes = modes.reshape((len(G),)+N.point_shape)"
   ]
  },
  {
   "cell_type": "markdown",
   "metadata": {},
   "source": [
    "## Visualize 1st principal mode of SSTM"
   ]
  },
  {
   "cell_type": "code",
   "execution_count": 4,
   "metadata": {
    "scrolled": false,
    "pycharm": {
     "name": "#%%\n"
    }
   },
   "outputs": [
    {
     "ename": "NameError",
     "evalue": "name 'vals' is not defined",
     "output_type": "error",
     "traceback": [
      "\u001B[0;31m---------------------------------------------------------------------------\u001B[0m",
      "\u001B[0;31mNameError\u001B[0m                                 Traceback (most recent call last)",
      "\u001B[0;32m/tmp/ipykernel_650970/1256583200.py\u001B[0m in \u001B[0;36m<module>\u001B[0;34m\u001B[0m\n\u001B[1;32m      4\u001B[0m \u001B[0mviewer\u001B[0m \u001B[0;34m=\u001B[0m \u001B[0mpl\u001B[0m\u001B[0;34m.\u001B[0m\u001B[0mshow\u001B[0m\u001B[0;34m(\u001B[0m\u001B[0mjupyter_backend\u001B[0m\u001B[0;34m=\u001B[0m\u001B[0;34m'ipygany'\u001B[0m\u001B[0;34m,\u001B[0m \u001B[0mreturn_viewer\u001B[0m\u001B[0;34m=\u001B[0m\u001B[0;32mTrue\u001B[0m\u001B[0;34m)\u001B[0m\u001B[0;34m\u001B[0m\u001B[0;34m\u001B[0m\u001B[0m\n\u001B[1;32m      5\u001B[0m \u001B[0;34m\u001B[0m\u001B[0m\n\u001B[0;32m----> 6\u001B[0;31m \u001B[0mdev\u001B[0m \u001B[0;34m=\u001B[0m \u001B[0mnp\u001B[0m\u001B[0;34m.\u001B[0m\u001B[0msqrt\u001B[0m\u001B[0;34m(\u001B[0m\u001B[0mvals\u001B[0m\u001B[0;34m[\u001B[0m\u001B[0;34m-\u001B[0m\u001B[0;36m1\u001B[0m\u001B[0;34m]\u001B[0m\u001B[0;34m)\u001B[0m\u001B[0;34m\u001B[0m\u001B[0;34m\u001B[0m\u001B[0m\n\u001B[0m\u001B[1;32m      7\u001B[0m \u001B[0;31m# excited = B.from_coords(B.metric.exp(mean, 2*dev*modes[-1]))\u001B[0m\u001B[0;34m\u001B[0m\u001B[0;34m\u001B[0m\u001B[0;34m\u001B[0m\u001B[0m\n\u001B[1;32m      8\u001B[0m \u001B[0mexcited\u001B[0m \u001B[0;34m=\u001B[0m \u001B[0mB\u001B[0m\u001B[0;34m.\u001B[0m\u001B[0mfrom_coords\u001B[0m\u001B[0;34m(\u001B[0m\u001B[0mN\u001B[0m\u001B[0;34m.\u001B[0m\u001B[0mmetric\u001B[0m\u001B[0;34m.\u001B[0m\u001B[0mexp\u001B[0m\u001B[0;34m(\u001B[0m\u001B[0mmean\u001B[0m\u001B[0;34m,\u001B[0m \u001B[0;36m2\u001B[0m\u001B[0;34m*\u001B[0m\u001B[0mdev\u001B[0m\u001B[0;34m*\u001B[0m\u001B[0mmodes\u001B[0m\u001B[0;34m[\u001B[0m\u001B[0;34m-\u001B[0m\u001B[0;36m1\u001B[0m\u001B[0;34m]\u001B[0m\u001B[0;34m)\u001B[0m\u001B[0;34m)\u001B[0m\u001B[0;34m\u001B[0m\u001B[0;34m\u001B[0m\u001B[0m\n",
      "\u001B[0;31mNameError\u001B[0m: name 'vals' is not defined"
     ]
    }
   ],
   "source": [
    "pl = pv.Plotter(notebook=True)\n",
    "pl.add_mesh(mesh, color='red')\n",
    "pl.add_mesh(mesh.copy())\n",
    "viewer = pl.show(jupyter_backend='ipygany', return_viewer=True)\n",
    "\n",
    "dev = np.sqrt(vals[-1])\n",
    "# excited = B.from_coords(B.metric.exp(mean, 2*dev*modes[-1]))\n",
    "excited = B.from_coords(N.metric.exp(mean, 2*dev*modes[-1])) # extrinsic exp.\n",
    "\n",
    "\n",
    "@interact\n",
    "def plot(t=(0.,1.,.1)):\n",
    "    viewer.children[0].vertices = np.asarray(M.from_coords(mu.eval(t)))\n",
    "    viewer.children[1].vertices = np.asarray(M.from_coords(excited.eval(t)))\n",
    "\n",
    "viewer"
   ]
  },
  {
   "cell_type": "code",
   "execution_count": null,
   "metadata": {},
   "outputs": [],
   "source": []
  }
 ],
 "metadata": {
  "kernelspec": {
   "display_name": "Python 3 (ipykernel)",
   "language": "python",
   "name": "python3"
  },
  "language_info": {
   "codemirror_mode": {
    "name": "ipython",
    "version": 3
   },
   "file_extension": ".py",
   "mimetype": "text/x-python",
   "name": "python",
   "nbconvert_exporter": "python",
   "pygments_lexer": "ipython3",
   "version": "3.9.2"
  }
 },
 "nbformat": 4,
 "nbformat_minor": 1
}