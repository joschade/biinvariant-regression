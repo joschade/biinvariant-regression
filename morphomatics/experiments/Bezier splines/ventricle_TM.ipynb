{
 "cells": [
  {
   "cell_type": "markdown",
   "metadata": {
    "pycharm": {
     "name": "#%% md\n"
    }
   },
   "source": [
    "# Read Data"
   ]
  },
  {
   "cell_type": "code",
   "execution_count": 1,
   "metadata": {
    "pycharm": {
     "name": "#%%\n"
    },
    "tags": []
   },
   "outputs": [
    {
     "name": "stdout",
     "output_type": "stream",
     "text": [
      "env: XLA_PYTHON_CLIENT_PREALLOCATE=False\n",
      "env: JAX_ENABLE_X64=True\n"
     ]
    }
   ],
   "source": [
    "%env XLA_PYTHON_CLIENT_PREALLOCATE=False\n",
    "%env JAX_ENABLE_X64=True\n",
    "\n",
    "from typing import List, NamedTuple\n",
    "import os\n",
    "import pyvista as pv\n",
    "pv.start_xvfb()\n",
    "\n",
    "from morphomatics.geom import Surface\n",
    "\n",
    "path = '/data/visual/online/projects/shape_trj/ventricle_MV/2_echo_LV'\n",
    "path = '../../../data/ventricle_MV/2_echo_LV'\n",
    "\n",
    "class Subject(NamedTuple):\n",
    "    systole: Surface\n",
    "    diastole: Surface\n",
    "\n",
    "# create Surface from pv.PolyData\n",
    "to_surf = lambda mesh: Surface(mesh.points, mesh.faces.reshape(-1, 4)[:, 1:])\n",
    "\n",
    "subjects: List[Subject] = []\n",
    "for d in os.listdir(path):\n",
    "    files = os.listdir(f'{path}/{d}')\n",
    "    files.sort()\n",
    "    sub = Subject(*[to_surf(pv.read(f'{path}/{d}/{f}')) for f in files])\n",
    "    subjects.append(sub)"
   ]
  },
  {
   "cell_type": "markdown",
   "metadata": {
    "pycharm": {
     "name": "#%% md\n"
    }
   },
   "source": [
    "# Determine Reference Shape"
   ]
  },
  {
   "cell_type": "code",
   "execution_count": 2,
   "metadata": {
    "pycharm": {
     "name": "#%%\n"
    },
    "tags": []
   },
   "outputs": [
    {
     "name": "stderr",
     "output_type": "stream",
     "text": [
      "WARNING:absl:No GPU/TPU found, falling back to CPU. (Set TF_CPP_MIN_LOG_LEVEL=0 and rerun for more info.)\n"
     ]
    },
    {
     "name": "stdout",
     "output_type": "stream",
     "text": [
      "12.922552288178787\n",
      "0.3827014279413084\n",
      "0.003720572252159453\n",
      "tol 0.01993782764566655 reached\n",
      "variances: [0.02045371 0.01286745 0.00793972 0.00513852 0.00433427 0.00273761\n",
      " 0.00196636 0.00107949]\n"
     ]
    },
    {
     "data": {
      "application/vnd.jupyter.widget-view+json": {
       "model_id": "2b352b7cfa9d400883eb003228b7dcf0",
       "version_major": 2,
       "version_minor": 0
      },
      "text/plain": [
       "interactive(children=(FloatSlider(value=0.0, description='t', max=0.1430164604671463, min=-0.1430164604671463,…"
      ]
     },
     "metadata": {},
     "output_type": "display_data"
    },
    {
     "data": {
      "application/vnd.jupyter.widget-view+json": {
       "model_id": "fe18dca4f3d944cea608c65ad66cd68c",
       "version_major": 2,
       "version_minor": 0
      },
      "text/plain": [
       "Scene(background_color='#4c4c4c', camera={'position': [68.39181357543289, 77.4130229895273, 113.39347992072932…"
      ]
     },
     "metadata": {},
     "output_type": "display_data"
    }
   ],
   "source": [
    "from ipywidgets import interact\n",
    "\n",
    "import numpy as np\n",
    "import jax.numpy as jnp\n",
    "\n",
    "from morphomatics.manifold import FundamentalCoords, DifferentialCoords\n",
    "from morphomatics.stats import StatisticalShapeModel\n",
    "\n",
    "# construct SSM for diastole configurations\n",
    "SSM = StatisticalShapeModel(lambda ref: FundamentalCoords(ref))\n",
    "SSM.construct([s.diastole for s in subjects])\n",
    "print(f'variances: {SSM.variances}')\n",
    "\n",
    "# show SSM\n",
    "pl = pv.Plotter(notebook=True)\n",
    "mesh = pv.PolyData(np.asarray(SSM.mean.v), np.c_[np.full(len(SSM.mean.f), 3), SSM.mean.f])\n",
    "pl.add_mesh(mesh)\n",
    "viewer = pl.show(jupyter_backend='ipygany', return_viewer=True)\n",
    "\n",
    "dev = np.sqrt(SSM.variances[0])\n",
    "@interact\n",
    "def plot(t=(-dev,dev,dev/10)):\n",
    "    # interpolate: excite 1st principal geodesic mode\n",
    "    v = SSM.space.from_coords(SSM.space.connec.exp(SSM.mean_coords, t*SSM.modes[0]))\n",
    "    viewer.children[0].vertices = np.asarray(v)\n",
    "\n",
    "viewer"
   ]
  },
  {
   "cell_type": "markdown",
   "metadata": {
    "pycharm": {
     "name": "#%%\n"
    }
   },
   "source": [
    "# Construct statistical shape trajectory model (SSTM)"
   ]
  },
  {
   "cell_type": "code",
   "execution_count": 3,
   "metadata": {
    "pycharm": {
     "name": "#%%\n"
    },
    "tags": []
   },
   "outputs": [],
   "source": [
    "from morphomatics.geom import BezierSpline\n",
    "from morphomatics.manifold import TangentBundle, ShapeSpace\n",
    "from morphomatics.stats import PrincipalGeodesicAnalysis as PGA\n",
    "\n",
    "M: ShapeSpace = SSM.space\n",
    "TM = TangentBundle(M)\n",
    "\n",
    "# compute mean and main modes of variation\n",
    "pts2vec = lambda p, q: [p, M.connec.log(p, q)]\n",
    "data = jnp.array([pts2vec(M.to_coords(s.diastole.v), M.to_coords(s.systole.v)) for s in subjects])\n",
    "pga = PGA(TM, data)"
   ]
  },
  {
   "cell_type": "markdown",
   "metadata": {},
   "source": [
    "## Visualize mean trajectory"
   ]
  },
  {
   "cell_type": "code",
   "execution_count": 4,
   "metadata": {
    "tags": []
   },
   "outputs": [
    {
     "data": {
      "application/vnd.jupyter.widget-view+json": {
       "model_id": "847610e635444f5596778913045e38fc",
       "version_major": 2,
       "version_minor": 0
      },
      "text/plain": [
       "interactive(children=(FloatSlider(value=0.5, description='t', max=1.0), Output()), _dom_classes=('widget-inter…"
      ]
     },
     "metadata": {},
     "output_type": "display_data"
    },
    {
     "data": {
      "application/vnd.jupyter.widget-view+json": {
       "model_id": "7fce2a3f8fd54cedae8da85ba6078b8b",
       "version_major": 2,
       "version_minor": 0
      },
      "text/plain": [
       "Scene(background_color='#4c4c4c', camera={'position': [68.39181357543289, 77.4130229895273, 113.39347992072932…"
      ]
     },
     "metadata": {},
     "output_type": "display_data"
    }
   ],
   "source": [
    "exp = lambda p, v, t: M.from_coords(M.connec.exp(p, t*v))\n",
    "\n",
    "pl = pv.Plotter(notebook=True)\n",
    "pl.add_mesh(mesh)\n",
    "viewer = pl.show(jupyter_backend='ipygany', return_viewer=True)\n",
    "\n",
    "@interact\n",
    "def plot(t=(0.,1.,.1)):\n",
    "    viewer.children[0].vertices = np.asarray(exp(*pga.mean, t))\n",
    "\n",
    "viewer"
   ]
  },
  {
   "cell_type": "markdown",
   "metadata": {},
   "source": [
    "## Visualize 1st principal mode of SSTM"
   ]
  },
  {
   "cell_type": "code",
   "execution_count": 6,
   "metadata": {
    "pycharm": {
     "name": "#%%\n"
    },
    "tags": []
   },
   "outputs": [
    {
     "data": {
      "application/vnd.jupyter.widget-view+json": {
       "model_id": "c8060f943ab9404b9d646ae60f65d152",
       "version_major": 2,
       "version_minor": 0
      },
      "text/plain": [
       "interactive(children=(FloatSlider(value=0.5, description='t', max=1.0), IntSlider(value=4, description='i', ma…"
      ]
     },
     "metadata": {},
     "output_type": "display_data"
    },
    {
     "data": {
      "application/vnd.jupyter.widget-view+json": {
       "model_id": "a3012251ca694081b90c64f8eb9214a9",
       "version_major": 2,
       "version_minor": 0
      },
      "text/plain": [
       "Scene(background_color='#4c4c4c', camera={'position': [68.39181357543289, 77.4130229895273, 113.39347992072932…"
      ]
     },
     "metadata": {},
     "output_type": "display_data"
    }
   ],
   "source": [
    "pl = pv.Plotter(notebook=True)\n",
    "pl.add_mesh(mesh, color='red')\n",
    "pl.add_mesh(mesh.copy())\n",
    "viewer = pl.show(jupyter_backend='ipygany', return_viewer=True)\n",
    "\n",
    "s_ = 0\n",
    "i_ = 0\n",
    "excited = pga.mean\n",
    "\n",
    "@interact\n",
    "def plot(t=(0.,1.,.1), i=(0,len(subjects)-1,1), s=(-3,3,.3)):\n",
    "    global i_, s_, excited\n",
    "    if s != s_ or i != i_:\n",
    "        s_ = s\n",
    "        i_ = i\n",
    "        dev = np.sqrt(pga.variances[i])\n",
    "        excited = TM.connec.exp(pga.mean, s*dev*pga.modes[i])\n",
    "    viewer.children[0].vertices = np.asarray(exp(*excited, t))\n",
    "    viewer.children[1].vertices = np.asarray(exp(*pga.mean, t)) + np.array([100.,0.,0.])[None]\n",
    "    \n",
    "\n",
    "viewer"
   ]
  },
  {
   "cell_type": "markdown",
   "metadata": {},
   "source": [
    "# Show input trajectories "
   ]
  },
  {
   "cell_type": "code",
   "execution_count": 5,
   "metadata": {
    "tags": []
   },
   "outputs": [
    {
     "data": {
      "application/vnd.jupyter.widget-view+json": {
       "model_id": "4e9c320fc77441fba9986734b1a8a801",
       "version_major": 2,
       "version_minor": 0
      },
      "text/plain": [
       "interactive(children=(FloatSlider(value=0.5, description='t', max=1.0), IntSlider(value=4, description='idx', …"
      ]
     },
     "metadata": {},
     "output_type": "display_data"
    },
    {
     "data": {
      "application/vnd.jupyter.widget-view+json": {
       "model_id": "fbcbaa4d9ae44cfbb42b26b559d07c85",
       "version_major": 2,
       "version_minor": 0
      },
      "text/plain": [
       "Scene(background_color='#4c4c4c', camera={'position': [70.13329805197279, 72.69836502946262, 112.1941819930345…"
      ]
     },
     "metadata": {},
     "output_type": "display_data"
    }
   ],
   "source": [
    "pl = pv.Plotter(notebook=True)\n",
    "pl.add_mesh(mesh)\n",
    "viewer = pl.show(jupyter_backend='ipygany', return_viewer=True)\n",
    "\n",
    "@interact\n",
    "def plot(t=(0.,1.,.1), idx=(0,len(data)-1,1)):\n",
    "    viewer.children[0].vertices = np.asarray(exp(*data[idx], t))\n",
    "\n",
    "viewer"
   ]
  }
 ],
 "metadata": {
  "kernelspec": {
   "display_name": "gdap",
   "language": "python",
   "name": "gdap"
  },
  "language_info": {
   "codemirror_mode": {
    "name": "ipython",
    "version": 3
   },
   "file_extension": ".py",
   "mimetype": "text/x-python",
   "name": "python",
   "nbconvert_exporter": "python",
   "pygments_lexer": "ipython3",
   "version": "3.10.9"
  }
 },
 "nbformat": 4,
 "nbformat_minor": 4
}
